{
 "metadata": {
  "name": "",
  "signature": "sha256:bf57efe54c3aada10a3fbf115b1d394488effdc267d0b1c16784df1610a9ffef"
 },
 "nbformat": 3,
 "nbformat_minor": 0,
 "worksheets": [
  {
   "cells": [
    {
     "cell_type": "markdown",
     "metadata": {},
     "source": [
      "The material for this lecture is adapted from a few sources:\n",
      "*    the free book Natural Language Processing with Python, available from http://www.nltk.org/book\n",
      "*    tutuorials for the [gensim](http://radimrehurek.com/gensim/index.html) Python library\n",
      "\n",
      "These are great resources if you want to learn more."
     ]
    },
    {
     "cell_type": "markdown",
     "metadata": {},
     "source": [
      "NLP refers to computations done on \"natural\" languages, i.e. naturally arising human languages such as English (NOT programming languages).\n",
      "\n",
      "Some applications:\n",
      "*    predicting word completion (e.g. for cellphones)\n",
      "*    computer translation (see http://translationparty.com/ for an illustration of current limitations)\n",
      "*    sentiment analysis\n",
      "*    search (which document is most relevant for a query)"
     ]
    },
    {
     "cell_type": "heading",
     "level": 1,
     "metadata": {},
     "source": [
      "1. Importing example data"
     ]
    },
    {
     "cell_type": "markdown",
     "metadata": {},
     "source": [
      "We'll start with some data from the NLTK book."
     ]
    },
    {
     "cell_type": "code",
     "collapsed": false,
     "input": [
      "import nltk, string\n",
      "# nltk.download() # download book collection (need to do this once)\n",
      "from nltk.book import *\n",
      "from __future__ import division"
     ],
     "language": "python",
     "metadata": {},
     "outputs": [],
     "prompt_number": 1
    },
    {
     "cell_type": "code",
     "collapsed": false,
     "input": [
      "# see the name of the example texts\n",
      "text1"
     ],
     "language": "python",
     "metadata": {},
     "outputs": [],
     "prompt_number": 2
    },
    {
     "cell_type": "code",
     "collapsed": false,
     "input": [
      "type(text1)"
     ],
     "language": "python",
     "metadata": {},
     "outputs": [],
     "prompt_number": 3
    },
    {
     "cell_type": "markdown",
     "metadata": {},
     "source": [
      "Later we'll learn how to create objects of this type. For now, just note we're working with something that looks like a list of words and punctuation. (These are called *tokens*.)"
     ]
    },
    {
     "cell_type": "code",
     "collapsed": false,
     "input": [
      "text1[:10]"
     ],
     "language": "python",
     "metadata": {},
     "outputs": [],
     "prompt_number": 4
    },
    {
     "cell_type": "code",
     "collapsed": false,
     "input": [
      "len(text1) # in tokens"
     ],
     "language": "python",
     "metadata": {},
     "outputs": [],
     "prompt_number": 5
    },
    {
     "cell_type": "heading",
     "level": 1,
     "metadata": {},
     "source": [
      "2. Word useage: contexts"
     ]
    },
    {
     "cell_type": "markdown",
     "metadata": {},
     "source": [
      "NLTK has some very useful functions for examining how specific words are used; that is, examining their context."
     ]
    },
    {
     "cell_type": "heading",
     "level": 3,
     "metadata": {},
     "source": [
      "concordance: how are words used?"
     ]
    },
    {
     "cell_type": "code",
     "collapsed": false,
     "input": [
      "text1.concordance(\"monstrous\") # note that case is ignored"
     ],
     "language": "python",
     "metadata": {},
     "outputs": [],
     "prompt_number": 6
    },
    {
     "cell_type": "code",
     "collapsed": false,
     "input": [
      "text2.concordance(\"monstrous\")"
     ],
     "language": "python",
     "metadata": {},
     "outputs": [],
     "prompt_number": 7
    },
    {
     "cell_type": "heading",
     "level": 3,
     "metadata": {},
     "source": [
      "similar: what words are used in a similar context?"
     ]
    },
    {
     "cell_type": "code",
     "collapsed": false,
     "input": [
      "text2.similar(\"monstrous\")"
     ],
     "language": "python",
     "metadata": {},
     "outputs": [],
     "prompt_number": 8
    },
    {
     "cell_type": "heading",
     "level": 3,
     "metadata": {},
     "source": [
      "common_contexts: for two words used in similar contexts, see the contexts"
     ]
    },
    {
     "cell_type": "code",
     "collapsed": false,
     "input": [
      "text2.common_contexts([\"monstrous\", \"very\"])"
     ],
     "language": "python",
     "metadata": {},
     "outputs": [],
     "prompt_number": 9
    },
    {
     "cell_type": "heading",
     "level": 3,
     "metadata": {},
     "source": [
      "collocations: see words often used together"
     ]
    },
    {
     "cell_type": "code",
     "collapsed": false,
     "input": [
      "text1.collocations()"
     ],
     "language": "python",
     "metadata": {},
     "outputs": [],
     "prompt_number": 10
    },
    {
     "cell_type": "code",
     "collapsed": false,
     "input": [
      "text8.collocations()"
     ],
     "language": "python",
     "metadata": {},
     "outputs": [],
     "prompt_number": 11
    },
    {
     "cell_type": "heading",
     "level": 1,
     "metadata": {},
     "source": [
      "3. Word useage: frequencies"
     ]
    },
    {
     "cell_type": "markdown",
     "metadata": {},
     "source": [
      "Let's make an alphabetically sorted list of the unique tokens in the Book of Genesis."
     ]
    },
    {
     "cell_type": "code",
     "collapsed": false,
     "input": [
      "unique_tokens = # complete\n",
      "unique_tokens[:20]"
     ],
     "language": "python",
     "metadata": {},
     "outputs": [],
     "prompt_number": 12
    },
    {
     "cell_type": "code",
     "collapsed": false,
     "input": [
      "len(unique_tokens)"
     ],
     "language": "python",
     "metadata": {},
     "outputs": [],
     "prompt_number": 13
    },
    {
     "cell_type": "markdown",
     "metadata": {},
     "source": [
      "We can measure \"lexical richness\" by dividing the number of unique tokens by the total number of tokens. Let's compare text1 (Moby Dick) to text6 (Monty Python)."
     ]
    },
    {
     "cell_type": "code",
     "collapsed": false,
     "input": [
      "print len(set(text1)) / len(text1)\n",
      "print len(set(text6)) / len(text6)"
     ],
     "language": "python",
     "metadata": {},
     "outputs": [],
     "prompt_number": 14
    },
    {
     "cell_type": "code",
     "collapsed": false,
     "input": [
      "text3.count(\"begat\") # count a given token"
     ],
     "language": "python",
     "metadata": {},
     "outputs": [],
     "prompt_number": 15
    },
    {
     "cell_type": "code",
     "collapsed": false,
     "input": [
      "# note this is better for our purposes than the string version shown earlier\n",
      "print \"is this\".count(\"is\")\n",
      "print [\"is\", \"this\"].count(\"is\")"
     ],
     "language": "python",
     "metadata": {},
     "outputs": [],
     "prompt_number": 16
    },
    {
     "cell_type": "code",
     "collapsed": false,
     "input": [
      "# percentage of text made up of specific word\n",
      "100 * text3.count(\"the\") / len(text3)"
     ],
     "language": "python",
     "metadata": {},
     "outputs": [],
     "prompt_number": 17
    },
    {
     "cell_type": "markdown",
     "metadata": {},
     "source": [
      "NLTK provides built-in support for working with frequency distributions (counts of each unique token)."
     ]
    },
    {
     "cell_type": "code",
     "collapsed": false,
     "input": [
      "fdist1 = FreqDist(text1)"
     ],
     "language": "python",
     "metadata": {},
     "outputs": [],
     "prompt_number": 18
    },
    {
     "cell_type": "code",
     "collapsed": false,
     "input": [
      "print fdist1"
     ],
     "language": "python",
     "metadata": {},
     "outputs": [],
     "prompt_number": 19
    },
    {
     "cell_type": "code",
     "collapsed": false,
     "input": [
      "# extract count for a given token - compare with earlier\n",
      "fdist1[\"the\"] "
     ],
     "language": "python",
     "metadata": {},
     "outputs": [],
     "prompt_number": 20
    },
    {
     "cell_type": "code",
     "collapsed": false,
     "input": [
      "# see most commonly occurring words; usually most consist of stop words\n",
      "fdist1.most_common(20)"
     ],
     "language": "python",
     "metadata": {},
     "outputs": [],
     "prompt_number": 21
    },
    {
     "cell_type": "heading",
     "level": 1,
     "metadata": {},
     "source": [
      "4. Identifying \"important\" words"
     ]
    },
    {
     "cell_type": "markdown",
     "metadata": {},
     "source": [
      "How can we identify \"important\" or \"interesting\" words in a text? One way of qualifying this is to find commonly used long words."
     ]
    },
    {
     "cell_type": "code",
     "collapsed": false,
     "input": [
      "# show words that are > 7 characters long and occur more than 7 times\n",
      "fdist1 = FreqDist(text1)\n",
      "count_long = # complete - list of tuples with (word, count)\n",
      "sorted(count_long, key=lambda el: -el[1])"
     ],
     "language": "python",
     "metadata": {},
     "outputs": [],
     "prompt_number": 22
    },
    {
     "cell_type": "markdown",
     "metadata": {},
     "source": [
      "Approaching this from the opposite direction, we might *remove* commonly occuring short words. These are also known as *stop words*."
     ]
    },
    {
     "cell_type": "code",
     "collapsed": false,
     "input": [
      "from nltk.corpus import stopwords\n",
      "stopwords = nltk.corpus.stopwords.words('english')\n",
      "stopwords[:10]"
     ],
     "language": "python",
     "metadata": {},
     "outputs": [],
     "prompt_number": 23
    },
    {
     "cell_type": "code",
     "collapsed": false,
     "input": [
      "# Find most frequently occurring words, removing stop words first\n",
      "content1 = # complete\n",
      "fdist1 = FreqDist(content1)\n",
      "fdist1.most_common(20)"
     ],
     "language": "python",
     "metadata": {},
     "outputs": [],
     "prompt_number": 24
    },
    {
     "cell_type": "markdown",
     "metadata": {},
     "source": [
      "We'll come back to the question of how to remove tokens that are nothing but punctuation."
     ]
    },
    {
     "cell_type": "heading",
     "level": 1,
     "metadata": {},
     "source": [
      "5. Working with raw text data"
     ]
    },
    {
     "cell_type": "markdown",
     "metadata": {},
     "source": [
      "Now we'll grab some text from the web. Project Gutenberg has an online collection of free ebooks in various formats, including plain text."
     ]
    },
    {
     "cell_type": "code",
     "collapsed": false,
     "input": [
      "import urllib\n",
      "\n",
      "# link for Crime and Punishment\n",
      "url = \"http://www.gutenberg.org/files/2554/2554.txt\"\n",
      "\n",
      "response = urllib.urlopen(url)\n",
      "raw = response.read().decode('utf8')"
     ],
     "language": "python",
     "metadata": {},
     "outputs": [],
     "prompt_number": 25
    },
    {
     "cell_type": "code",
     "collapsed": false,
     "input": [
      "type(raw)"
     ],
     "language": "python",
     "metadata": {},
     "outputs": [],
     "prompt_number": 26
    },
    {
     "cell_type": "code",
     "collapsed": false,
     "input": [
      "# Length - in characters, not tokens\n",
      "len(raw)"
     ],
     "language": "python",
     "metadata": {},
     "outputs": [],
     "prompt_number": 27
    },
    {
     "cell_type": "code",
     "collapsed": false,
     "input": [
      "raw[:500]"
     ],
     "language": "python",
     "metadata": {},
     "outputs": [],
     "prompt_number": 28
    },
    {
     "cell_type": "heading",
     "level": 2,
     "metadata": {},
     "source": [
      "Manually searching for the content"
     ]
    },
    {
     "cell_type": "markdown",
     "metadata": {},
     "source": [
      "I opened the link from the Project Gutenburg website to look at the text we just downloaded. There's an introduction I don't want to include. Scrolling down, I see that the book begins with the words \"PART I.\" There's also some copyright information at the end, following the words \"End of Project Gutenberg's Crime and Punishment, by Fyodor Dostoevsky.\""
     ]
    },
    {
     "cell_type": "code",
     "collapsed": false,
     "input": [
      "raw.find(\"PART I\") # first instance"
     ],
     "language": "python",
     "metadata": {},
     "outputs": [],
     "prompt_number": 29
    },
    {
     "cell_type": "code",
     "collapsed": false,
     "input": [
      "raw[5338:5500]"
     ],
     "language": "python",
     "metadata": {},
     "outputs": [],
     "prompt_number": 30
    },
    {
     "cell_type": "code",
     "collapsed": false,
     "input": [
      "raw.rfind(\"End of Project Gutenberg's Crime\") # last instance"
     ],
     "language": "python",
     "metadata": {},
     "outputs": [],
     "prompt_number": 31
    },
    {
     "cell_type": "code",
     "collapsed": false,
     "input": [
      "raw[1157600:1157746]"
     ],
     "language": "python",
     "metadata": {},
     "outputs": [],
     "prompt_number": 32
    },
    {
     "cell_type": "code",
     "collapsed": false,
     "input": [
      "raw = raw[5338:1157746]"
     ],
     "language": "python",
     "metadata": {},
     "outputs": [],
     "prompt_number": 33
    },
    {
     "cell_type": "heading",
     "level": 2,
     "metadata": {},
     "source": [
      "Tokenization"
     ]
    },
    {
     "cell_type": "markdown",
     "metadata": {},
     "source": [
      "Tokenizers divide strings into lists of substrings. Usually we do this because we want to split a string into sentences or words. This topic is complex and NLTK has some built-in functions we can use, without delving too much into the algorithms behind them."
     ]
    },
    {
     "cell_type": "code",
     "collapsed": false,
     "input": [
      "raw[:500]"
     ],
     "language": "python",
     "metadata": {},
     "outputs": [],
     "prompt_number": 34
    },
    {
     "cell_type": "markdown",
     "metadata": {},
     "source": [
      "One simple way to tokenize is with split."
     ]
    },
    {
     "cell_type": "code",
     "collapsed": false,
     "input": [
      "# default separator is any whitespace\n",
      "raw[:500].split()"
     ],
     "language": "python",
     "metadata": {},
     "outputs": [],
     "prompt_number": 35
    },
    {
     "cell_type": "code",
     "collapsed": false,
     "input": [
      "from nltk import word_tokenize\n",
      "\n",
      "tokens = word_tokenize(raw)\n",
      "type(tokens)"
     ],
     "language": "python",
     "metadata": {},
     "outputs": [],
     "prompt_number": 36
    },
    {
     "cell_type": "code",
     "collapsed": false,
     "input": [
      "len(tokens)"
     ],
     "language": "python",
     "metadata": {},
     "outputs": [],
     "prompt_number": 37
    },
    {
     "cell_type": "code",
     "collapsed": false,
     "input": [
      "print tokens[:50]"
     ],
     "language": "python",
     "metadata": {},
     "outputs": [],
     "prompt_number": 38
    },
    {
     "cell_type": "markdown",
     "metadata": {},
     "source": [
      "The word_tokenize function is based on the [Treebank tokenization algorithm](http://www.cis.upenn.edu/~treebank/tokenization.html). One advantage of this algorithm is that it handles contractions in an appropriate way, which is tricky to do for all cases using regular expressions."
     ]
    },
    {
     "cell_type": "code",
     "collapsed": false,
     "input": [
      "word_tokenize(\"I've been to the U.S. twice. I don't plan to go back.\")"
     ],
     "language": "python",
     "metadata": {},
     "outputs": [],
     "prompt_number": 39
    },
    {
     "cell_type": "code",
     "collapsed": false,
     "input": [
      "from nltk.tokenize import RegexpTokenizer\n",
      "tokenizer = RegexpTokenizer(r'\\w+') # one or more word characters\n",
      "tokenizer.tokenize(\"I've been to the U.S. twice. I don't plan to go back.\")"
     ],
     "language": "python",
     "metadata": {},
     "outputs": [],
     "prompt_number": 40
    },
    {
     "cell_type": "markdown",
     "metadata": {},
     "source": [
      "One refinement we might want to make is to remove the tokens that consist *only* of punctuation."
     ]
    },
    {
     "cell_type": "code",
     "collapsed": false,
     "input": [
      "string.punctuation"
     ],
     "language": "python",
     "metadata": {},
     "outputs": [],
     "prompt_number": 41
    },
    {
     "cell_type": "code",
     "collapsed": false,
     "input": [
      "def all_punct(x):\n",
      "    return(all([char in string.punctuation for char in x]))\n",
      "\n",
      "def my_tokenize(text):\n",
      "    init_words = word_tokenize(text)\n",
      "    return([w for w in init_words if not all_punct(w)])"
     ],
     "language": "python",
     "metadata": {},
     "outputs": [],
     "prompt_number": 42
    },
    {
     "cell_type": "code",
     "collapsed": false,
     "input": [
      "tokens = my_tokenize(raw)\n",
      "print tokens[:50]"
     ],
     "language": "python",
     "metadata": {},
     "outputs": [],
     "prompt_number": 43
    },
    {
     "cell_type": "markdown",
     "metadata": {},
     "source": [
      "Exercise:\n",
      "1.    Write a new function called any_punct that checks whether a string contains any punctuation.\n",
      "2.    Use this function to create a set of tokens containing punctuation from the example above. Do you see any examples of tokens that suggest further improvements we could make?"
     ]
    },
    {
     "cell_type": "heading",
     "level": 2,
     "metadata": {},
     "source": [
      "Creating an nltk.Text object"
     ]
    },
    {
     "cell_type": "markdown",
     "metadata": {},
     "source": [
      "Now we can create an nltk.Text object and use all the NLTK functions for processing."
     ]
    },
    {
     "cell_type": "code",
     "collapsed": false,
     "input": [
      "text = nltk.Text(tokens)\n",
      "type(text)"
     ],
     "language": "python",
     "metadata": {},
     "outputs": [],
     "prompt_number": 44
    },
    {
     "cell_type": "code",
     "collapsed": false,
     "input": [
      "print text[:20]"
     ],
     "language": "python",
     "metadata": {},
     "outputs": [],
     "prompt_number": 45
    },
    {
     "cell_type": "code",
     "collapsed": false,
     "input": [
      "text.collocations()"
     ],
     "language": "python",
     "metadata": {},
     "outputs": [],
     "prompt_number": 46
    },
    {
     "cell_type": "code",
     "collapsed": false,
     "input": [
      "content = [w for w in text if w.lower() not in stopwords]\n",
      "fdist = FreqDist(content)\n",
      "fdist.most_common(10)"
     ],
     "language": "python",
     "metadata": {},
     "outputs": [],
     "prompt_number": 47
    },
    {
     "cell_type": "heading",
     "level": 1,
     "metadata": {},
     "source": [
      "6. Vector representations"
     ]
    },
    {
     "cell_type": "markdown",
     "metadata": {},
     "source": [
      "Much of advanced text processing is based on creating a vector representation of each text. Think of each element of the vector being a real number representing the answer to a specific question. \n",
      "\n",
      "For example, we could have a dictionary of all possible words and then a long vector counting the number of times each word occurs in a text. Note that this vector would be *sparse*, i.e. containing many zeroes. Efficient implementatations of text-mining algorithms take advantage of this sparsity.\n",
      "\n",
      "For working with efficient vector representations, we can use the [gensim](http://radimrehurek.com/gensim/index.html) Python library. I'm going to switch over now to using a simple example from one of the gensim tutorials.\n",
      "\n",
      "Imagine that the following are titles of academic papers. The goal is to return the best matching paper for a particular search string."
     ]
    },
    {
     "cell_type": "code",
     "collapsed": false,
     "input": [
      "from gensim import corpora, models, similarities\n",
      "documents = [\"Human machine interface for lab abc computer applications\",\n",
      "              \"A survey of user opinion of computer system response time\",\n",
      "              \"The EPS user interface management system\",\n",
      "              \"System and human system engineering testing of EPS\",\n",
      "              \"Relation of user perceived response time to error measurement\",\n",
      "              \"The generation of random binary unordered trees\",\n",
      "              \"The intersection graph of paths in trees\",\n",
      "              \"Graph minors IV Widths of trees and well quasi ordering\",\n",
      "              \"Graph minors A survey\"]"
     ],
     "language": "python",
     "metadata": {},
     "outputs": [],
     "prompt_number": 48
    },
    {
     "cell_type": "code",
     "collapsed": false,
     "input": [
      "# remove common words and tokenize\n",
      "stoplist = set('for a of the and to in'.split()) # an abbreviated list of stop words\n",
      "texts = [[word for word in document.lower().split() if word not in stoplist]\n",
      "          for document in documents]\n",
      "texts"
     ],
     "language": "python",
     "metadata": {},
     "outputs": [],
     "prompt_number": 49
    },
    {
     "cell_type": "code",
     "collapsed": false,
     "input": [
      "# find the unique words\n",
      "dictionary = corpora.Dictionary(texts)\n",
      "print dictionary"
     ],
     "language": "python",
     "metadata": {},
     "outputs": [],
     "prompt_number": 50
    },
    {
     "cell_type": "code",
     "collapsed": false,
     "input": [
      "print dictionary.token2id # numbers represent ids, not counts"
     ],
     "language": "python",
     "metadata": {},
     "outputs": [],
     "prompt_number": 51
    },
    {
     "cell_type": "code",
     "collapsed": false,
     "input": [
      "# for a new string, convert to \"bag of words\" representation using the dictionary\n",
      "dictionary.doc2bow(\"human computer interaction survey computer\".split())"
     ],
     "language": "python",
     "metadata": {},
     "outputs": [],
     "prompt_number": 52
    },
    {
     "cell_type": "markdown",
     "metadata": {},
     "source": [
      "Note that the word \"interaction\" is not in the dictionary and is ignored."
     ]
    },
    {
     "cell_type": "code",
     "collapsed": false,
     "input": [
      "# convert all documents\n",
      "corpus = [dictionary.doc2bow(text) for text in texts]\n",
      "corpus"
     ],
     "language": "python",
     "metadata": {},
     "outputs": [],
     "prompt_number": 53
    },
    {
     "cell_type": "markdown",
     "metadata": {},
     "source": [
      "A *term-document matrix* has rows representing words/tokens and columns representing documents. Each element counts the number of times a particular word occurs in a particular document. We can think of the corpus object above as representing the term-document matrix in a format that discards all the zero entries.\n",
      "\n",
      "It is common to divide each entry by a function of the number of times the word occurs in the entire corpus (collection of documents). This calculation is called TF-IDF, which stands for \"term frequency x inverse document frequency.\"\n",
      "\n",
      "Let's see the options by looking at the help for models.TfidfModel in gensim."
     ]
    },
    {
     "cell_type": "code",
     "collapsed": false,
     "input": [
      "models.TfidfModel?"
     ],
     "language": "python",
     "metadata": {},
     "outputs": [],
     "prompt_number": 54
    },
    {
     "cell_type": "code",
     "collapsed": false,
     "input": [
      "tfidf = models.TfidfModel(corpus, normalize=True)\n",
      "corpus_tfidf = tfidf[corpus]\n",
      "for doc in corpus_tfidf:\n",
      "    print(doc)"
     ],
     "language": "python",
     "metadata": {},
     "outputs": [],
     "prompt_number": 55
    },
    {
     "cell_type": "markdown",
     "metadata": {},
     "source": [
      "Now we're ready to implement the search. First we need to convert our query to the TF-IDF representation."
     ]
    },
    {
     "cell_type": "code",
     "collapsed": false,
     "input": [
      "doc = \"Human computer interaction\"\n",
      "vec_bow = dictionary.doc2bow(doc.lower().split())\n",
      "vec_tfidf = tfidf[vec_bow]\n",
      "print(vec_tfidf)"
     ],
     "language": "python",
     "metadata": {},
     "outputs": [],
     "prompt_number": 56
    },
    {
     "cell_type": "markdown",
     "metadata": {},
     "source": [
      "Now we need a way of determining which of the article titles are \"closest\" to our query. Think of our vectors in high-dimensional space. We'll use the cosine of the angle between each pair of vectors as our similarity metric."
     ]
    },
    {
     "cell_type": "code",
     "collapsed": false,
     "input": [
      "index = similarities.MatrixSimilarity(corpus_tfidf)\n",
      "sims = index[vec_tfidf] # perform a similarity query against the corpus\n",
      "print(list(enumerate(sims))) # print (document_number, document_similarity) 2-tuples"
     ],
     "language": "python",
     "metadata": {},
     "outputs": [],
     "prompt_number": 57
    },
    {
     "cell_type": "code",
     "collapsed": false,
     "input": [
      "sorted(enumerate(sims), key=lambda item: -item[1])"
     ],
     "language": "python",
     "metadata": {},
     "outputs": [],
     "prompt_number": 58
    },
    {
     "cell_type": "markdown",
     "metadata": {},
     "source": [
      "Various other transformations of the basic bag-of-words representation have been proposed. For example, Latent Semantic Indexing (LSI) is based on taking the SVD of either the term-document matrix or the TF-IDF matrix. See the list of avaiable transformations in gensim [here](http://radimrehurek.com/gensim/tut2.html)."
     ]
    }
   ],
   "metadata": {}
  }
 ]
}